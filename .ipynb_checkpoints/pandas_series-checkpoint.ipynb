{
 "cells": [
  {
   "cell_type": "code",
   "execution_count": 1,
   "id": "a8258af5",
   "metadata": {},
   "outputs": [],
   "source": [
    "import numpy as np\n",
    "import pandas as pd\n",
    "\n",
    "import matplotlib.pyplot as plt\n"
   ]
  },
  {
   "cell_type": "markdown",
   "id": "812d44d4",
   "metadata": {},
   "source": [
    "## Exercises Part I"
   ]
  },
  {
   "cell_type": "code",
   "execution_count": 2,
   "id": "a3105d68",
   "metadata": {},
   "outputs": [],
   "source": [
    "fruits= pd.Series([\"kiwi\", \"mango\", \"strawberry\", \"pineapple\", \"gala apple\", \"honeycrisp apple\", \"tomato\", \"watermelon\", \"honeydew\", \"kiwi\", \"kiwi\", \"kiwi\", \"mango\", \"blueberry\", \"blackberry\", \"gooseberry\", \"papaya\"]).astype('str')\n"
   ]
  },
  {
   "cell_type": "markdown",
   "id": "09922133",
   "metadata": {},
   "source": [
    "1. Determine the number of elements in fruits."
   ]
  },
  {
   "cell_type": "code",
   "execution_count": 3,
   "id": "4d0075d0",
   "metadata": {},
   "outputs": [
    {
     "data": {
      "text/plain": [
       "17"
      ]
     },
     "execution_count": 3,
     "metadata": {},
     "output_type": "execute_result"
    }
   ],
   "source": [
    "len(fruits) #Determin the elements use len(series_name)"
   ]
  },
  {
   "cell_type": "code",
   "execution_count": 4,
   "id": "7112c366",
   "metadata": {},
   "outputs": [
    {
     "data": {
      "text/plain": [
       "17"
      ]
     },
     "execution_count": 4,
     "metadata": {},
     "output_type": "execute_result"
    }
   ],
   "source": [
    "fruits.size # Or series_name. size()"
   ]
  },
  {
   "cell_type": "markdown",
   "id": "c9e26a7b",
   "metadata": {},
   "source": [
    "2. Output only the index from fruits."
   ]
  },
  {
   "cell_type": "code",
   "execution_count": 5,
   "id": "3a7e0922",
   "metadata": {},
   "outputs": [
    {
     "data": {
      "text/plain": [
       "0                 kiwi\n",
       "1                mango\n",
       "2           strawberry\n",
       "3            pineapple\n",
       "4           gala apple\n",
       "5     honeycrisp apple\n",
       "6               tomato\n",
       "7           watermelon\n",
       "8             honeydew\n",
       "9                 kiwi\n",
       "10                kiwi\n",
       "11                kiwi\n",
       "12               mango\n",
       "13           blueberry\n",
       "14          blackberry\n",
       "15          gooseberry\n",
       "16              papaya\n",
       "dtype: object"
      ]
     },
     "execution_count": 5,
     "metadata": {},
     "output_type": "execute_result"
    }
   ],
   "source": [
    "pd.Series(fruits)"
   ]
  },
  {
   "cell_type": "code",
   "execution_count": 231,
   "id": "2819508c",
   "metadata": {},
   "outputs": [
    {
     "data": {
      "text/plain": [
       "RangeIndex(start=0, stop=17, step=1)"
      ]
     },
     "execution_count": 231,
     "metadata": {},
     "output_type": "execute_result"
    }
   ],
   "source": [
    "fruits.index"
   ]
  },
  {
   "cell_type": "code",
   "execution_count": 6,
   "id": "a3986c99",
   "metadata": {},
   "outputs": [
    {
     "data": {
      "text/plain": [
       "[0, 1, 2, 3, 4, 5, 6, 7, 8, 9, 10, 11, 12, 13, 14, 15, 16]"
      ]
     },
     "execution_count": 6,
     "metadata": {},
     "output_type": "execute_result"
    }
   ],
   "source": [
    "list(fruits.index)"
   ]
  },
  {
   "cell_type": "markdown",
   "id": "bf58fcf9",
   "metadata": {},
   "source": [
    "3. Output only the values from fruits."
   ]
  },
  {
   "cell_type": "code",
   "execution_count": 6,
   "id": "7574ed86",
   "metadata": {},
   "outputs": [
    {
     "data": {
      "text/plain": [
       "array(['kiwi', 'mango', 'strawberry', 'pineapple', 'gala apple',\n",
       "       'honeycrisp apple', 'tomato', 'watermelon', 'honeydew', 'kiwi',\n",
       "       'kiwi', 'kiwi', 'mango', 'blueberry', 'blackberry', 'gooseberry',\n",
       "       'papaya'], dtype=object)"
      ]
     },
     "execution_count": 6,
     "metadata": {},
     "output_type": "execute_result"
    }
   ],
   "source": [
    "fruits.values  # only to show the values of the series. series_name.values "
   ]
  },
  {
   "cell_type": "markdown",
   "id": "6b80c334",
   "metadata": {},
   "source": [
    "4. Confirm the data type of the values in fruits."
   ]
  },
  {
   "cell_type": "code",
   "execution_count": 232,
   "id": "e4b8bb42",
   "metadata": {},
   "outputs": [
    {
     "data": {
      "text/plain": [
       "dtype('O')"
      ]
     },
     "execution_count": 232,
     "metadata": {},
     "output_type": "execute_result"
    }
   ],
   "source": [
    "fruits.dtype  # How to determin the type of a series. we use series_name.dtype"
   ]
  },
  {
   "cell_type": "markdown",
   "id": "9dfe9174",
   "metadata": {},
   "source": [
    "5. Output only the first five values from fruits. Output the last three values. Output two random values from fruits."
   ]
  },
  {
   "cell_type": "code",
   "execution_count": 8,
   "id": "ed4ba7f1",
   "metadata": {},
   "outputs": [
    {
     "data": {
      "text/plain": [
       "0          kiwi\n",
       "1         mango\n",
       "2    strawberry\n",
       "3     pineapple\n",
       "4    gala apple\n",
       "dtype: object"
      ]
     },
     "execution_count": 8,
     "metadata": {},
     "output_type": "execute_result"
    }
   ],
   "source": [
    "fruits.head(5)"
   ]
  },
  {
   "cell_type": "code",
   "execution_count": 9,
   "id": "87f0892b",
   "metadata": {},
   "outputs": [
    {
     "data": {
      "text/plain": [
       "14    blackberry\n",
       "15    gooseberry\n",
       "16        papaya\n",
       "dtype: object"
      ]
     },
     "execution_count": 9,
     "metadata": {},
     "output_type": "execute_result"
    }
   ],
   "source": [
    "fruits.tail(3)"
   ]
  },
  {
   "cell_type": "code",
   "execution_count": 10,
   "id": "fbb3884c",
   "metadata": {},
   "outputs": [
    {
     "data": {
      "text/plain": [
       "10    kiwi\n",
       "0     kiwi\n",
       "dtype: object"
      ]
     },
     "execution_count": 10,
     "metadata": {},
     "output_type": "execute_result"
    }
   ],
   "source": [
    "fruits.sample(2)"
   ]
  },
  {
   "cell_type": "markdown",
   "id": "d867b89c",
   "metadata": {},
   "source": [
    "6. Run the .describe() on fruits to see what information it returns when called on a Series with string values."
   ]
  },
  {
   "cell_type": "code",
   "execution_count": 11,
   "id": "039af6c2",
   "metadata": {},
   "outputs": [
    {
     "data": {
      "text/plain": [
       "count       17\n",
       "unique      13\n",
       "top       kiwi\n",
       "freq         4\n",
       "dtype: object"
      ]
     },
     "execution_count": 11,
     "metadata": {},
     "output_type": "execute_result"
    }
   ],
   "source": [
    "fruits.describe()"
   ]
  },
  {
   "cell_type": "markdown",
   "id": "1084fc8d",
   "metadata": {},
   "source": [
    "7. Run the code necessary to produce only the unique string values from fruits."
   ]
  },
  {
   "cell_type": "code",
   "execution_count": 7,
   "id": "ca300145",
   "metadata": {},
   "outputs": [
    {
     "name": "stdout",
     "output_type": "stream",
     "text": [
      "['kiwi' 'mango' 'strawberry' 'pineapple' 'gala apple' 'honeycrisp apple'\n",
      " 'tomato' 'watermelon' 'honeydew' 'blueberry' 'blackberry' 'gooseberry'\n",
      " 'papaya']\n"
     ]
    }
   ],
   "source": [
    "fruits_unique = fruits.unique()\n",
    "print(fruits_unique)"
   ]
  },
  {
   "cell_type": "code",
   "execution_count": 8,
   "id": "1ce2cb1d",
   "metadata": {},
   "outputs": [],
   "source": [
    "fruits_unique = pd.Series(fruits_unique)"
   ]
  },
  {
   "cell_type": "code",
   "execution_count": 9,
   "id": "25b8af7a",
   "metadata": {},
   "outputs": [
    {
     "data": {
      "text/plain": [
       "13"
      ]
     },
     "execution_count": 9,
     "metadata": {},
     "output_type": "execute_result"
    }
   ],
   "source": [
    "fruits.nunique()"
   ]
  },
  {
   "cell_type": "markdown",
   "id": "0d378b9b",
   "metadata": {},
   "source": [
    "8. Determine how many times each unique string value occurs in fruits."
   ]
  },
  {
   "cell_type": "code",
   "execution_count": 14,
   "id": "f3185806",
   "metadata": {
    "scrolled": true
   },
   "outputs": [
    {
     "data": {
      "text/plain": [
       "kiwi                1\n",
       "mango               1\n",
       "strawberry          1\n",
       "pineapple           1\n",
       "gala apple          1\n",
       "honeycrisp apple    1\n",
       "tomato              1\n",
       "watermelon          1\n",
       "honeydew            1\n",
       "blueberry           1\n",
       "blackberry          1\n",
       "gooseberry          1\n",
       "papaya              1\n",
       "dtype: int64"
      ]
     },
     "execution_count": 14,
     "metadata": {},
     "output_type": "execute_result"
    }
   ],
   "source": [
    "fruits_unique.value_counts()"
   ]
  },
  {
   "cell_type": "code",
   "execution_count": 10,
   "id": "b096eb86",
   "metadata": {},
   "outputs": [
    {
     "data": {
      "text/plain": [
       "kiwi                4\n",
       "mango               2\n",
       "strawberry          1\n",
       "pineapple           1\n",
       "gala apple          1\n",
       "honeycrisp apple    1\n",
       "tomato              1\n",
       "watermelon          1\n",
       "honeydew            1\n",
       "blueberry           1\n",
       "blackberry          1\n",
       "gooseberry          1\n",
       "papaya              1\n",
       "dtype: int64"
      ]
     },
     "execution_count": 10,
     "metadata": {},
     "output_type": "execute_result"
    }
   ],
   "source": [
    "fruits.value_counts()"
   ]
  },
  {
   "cell_type": "markdown",
   "id": "b048a81f",
   "metadata": {},
   "source": [
    "9. Determine the string value that occurs most frequently in fruits."
   ]
  },
  {
   "cell_type": "code",
   "execution_count": 34,
   "id": "8f080583",
   "metadata": {},
   "outputs": [
    {
     "name": "stdout",
     "output_type": "stream",
     "text": [
      "kiwi                4\n",
      "mango               2\n",
      "strawberry          1\n",
      "pineapple           1\n",
      "gala apple          1\n",
      "honeycrisp apple    1\n",
      "tomato              1\n",
      "watermelon          1\n",
      "honeydew            1\n",
      "blueberry           1\n",
      "blackberry          1\n",
      "gooseberry          1\n",
      "papaya              1\n",
      "dtype: int64\n"
     ]
    }
   ],
   "source": [
    "fruits_count = fruits.value_counts()\n",
    "print(fruits_count)"
   ]
  },
  {
   "cell_type": "markdown",
   "id": "b0eff48a",
   "metadata": {},
   "source": [
    "10. Determine the string value that occurs least frequently in fruits."
   ]
  },
  {
   "cell_type": "code",
   "execution_count": 31,
   "id": "08f40e07",
   "metadata": {},
   "outputs": [
    {
     "data": {
      "text/plain": [
       "strawberry          1\n",
       "pineapple           1\n",
       "gala apple          1\n",
       "honeycrisp apple    1\n",
       "tomato              1\n",
       "watermelon          1\n",
       "honeydew            1\n",
       "blueberry           1\n",
       "blackberry          1\n",
       "gooseberry          1\n",
       "papaya              1\n",
       "dtype: int64"
      ]
     },
     "execution_count": 31,
     "metadata": {},
     "output_type": "execute_result"
    }
   ],
   "source": [
    "#deterimin the least or most frequently items : fruits.nsmallest(n=1, keep='all')\n",
    "fruits_count.nsmallest(n=1,keep='all')"
   ]
  },
  {
   "cell_type": "code",
   "execution_count": 33,
   "id": "edd357bf",
   "metadata": {},
   "outputs": [
    {
     "data": {
      "text/plain": [
       "kiwi    4\n",
       "dtype: int64"
      ]
     },
     "execution_count": 33,
     "metadata": {},
     "output_type": "execute_result"
    }
   ],
   "source": [
    "fruits_count.nlargest(n=1,keep = \"all\")"
   ]
  },
  {
   "cell_type": "markdown",
   "id": "4e12a525",
   "metadata": {},
   "source": [
    "## Exercises Part II"
   ]
  },
  {
   "cell_type": "markdown",
   "id": "ae521cde",
   "metadata": {},
   "source": [
    "1. Capitalize all the string values in fruits."
   ]
  },
  {
   "cell_type": "code",
   "execution_count": 45,
   "id": "acc5298c",
   "metadata": {},
   "outputs": [
    {
     "name": "stdout",
     "output_type": "stream",
     "text": [
      "0                 KIWI\n",
      "1                MANGO\n",
      "2           STRAWBERRY\n",
      "3            PINEAPPLE\n",
      "4           GALA APPLE\n",
      "5     HONEYCRISP APPLE\n",
      "6               TOMATO\n",
      "7           WATERMELON\n",
      "8             HONEYDEW\n",
      "9                 KIWI\n",
      "10                KIWI\n",
      "11                KIWI\n",
      "12               MANGO\n",
      "13           BLUEBERRY\n",
      "14          BLACKBERRY\n",
      "15          GOOSEBERRY\n",
      "16              PAPAYA\n",
      "dtype: object\n"
     ]
    }
   ],
   "source": [
    "fruits_upper =fruits.str.upper() #string method use .str or use. str.capitalize()\n",
    "print(fruits_upper)  # Convert to upper, series_name.str.upper()"
   ]
  },
  {
   "cell_type": "code",
   "execution_count": null,
   "id": "5ec5ef65",
   "metadata": {},
   "outputs": [],
   "source": []
  },
  {
   "cell_type": "markdown",
   "id": "4e6e674b",
   "metadata": {},
   "source": [
    "2. Count the letter \"a\" in all the string values (use string vectorization)."
   ]
  },
  {
   "cell_type": "code",
   "execution_count": 12,
   "id": "ed574f27",
   "metadata": {},
   "outputs": [
    {
     "data": {
      "text/plain": [
       "0     0\n",
       "1     1\n",
       "2     1\n",
       "3     1\n",
       "4     3\n",
       "5     1\n",
       "6     1\n",
       "7     1\n",
       "8     0\n",
       "9     0\n",
       "10    0\n",
       "11    0\n",
       "12    1\n",
       "13    0\n",
       "14    1\n",
       "15    0\n",
       "16    3\n",
       "dtype: int64"
      ]
     },
     "execution_count": 12,
     "metadata": {},
     "output_type": "execute_result"
    }
   ],
   "source": [
    "fruits.str.count('a')"
   ]
  },
  {
   "cell_type": "code",
   "execution_count": 18,
   "id": "0be046bb",
   "metadata": {},
   "outputs": [
    {
     "data": {
      "text/plain": [
       "0                 kiwicount of a 0\n",
       "1                mangocount of a 1\n",
       "2           strawberrycount of a 1\n",
       "3            pineapplecount of a 1\n",
       "4           gala applecount of a 3\n",
       "5     honeycrisp applecount of a 1\n",
       "6               tomatocount of a 1\n",
       "7           watermeloncount of a 1\n",
       "8             honeydewcount of a 0\n",
       "9                 kiwicount of a 0\n",
       "10                kiwicount of a 0\n",
       "11                kiwicount of a 0\n",
       "12               mangocount of a 1\n",
       "13           blueberrycount of a 0\n",
       "14          blackberrycount of a 1\n",
       "15          gooseberrycount of a 0\n",
       "16              papayacount of a 3\n",
       "dtype: object"
      ]
     },
     "execution_count": 18,
     "metadata": {},
     "output_type": "execute_result"
    }
   ],
   "source": [
    "fruits.apply(lambda x : x + 'count of a ' + str(x.count('a')))"
   ]
  },
  {
   "cell_type": "code",
   "execution_count": 79,
   "id": "d26810a5",
   "metadata": {},
   "outputs": [
    {
     "data": {
      "text/plain": [
       "['a']"
      ]
     },
     "execution_count": 79,
     "metadata": {},
     "output_type": "execute_result"
    }
   ],
   "source": [
    "fruits_a = fruits.str.findall('a')\n",
    "fruits_a[1]\n",
    "#fruits_a.str.len() # findall function only can look it up one string? "
   ]
  },
  {
   "cell_type": "code",
   "execution_count": 86,
   "id": "ca14be64",
   "metadata": {},
   "outputs": [
    {
     "data": {
      "text/plain": [
       "1    1\n",
       "2    1\n",
       "dtype: int64"
      ]
     },
     "execution_count": 86,
     "metadata": {},
     "output_type": "execute_result"
    }
   ],
   "source": [
    "fruits_a[1:3].str.len()"
   ]
  },
  {
   "cell_type": "code",
   "execution_count": 87,
   "id": "7dd5b29d",
   "metadata": {},
   "outputs": [
    {
     "data": {
      "text/plain": [
       "0            []\n",
       "1           [a]\n",
       "2           [a]\n",
       "3           [a]\n",
       "4     [a, a, a]\n",
       "5           [a]\n",
       "6           [a]\n",
       "7           [a]\n",
       "8            []\n",
       "9            []\n",
       "10           []\n",
       "11           []\n",
       "12          [a]\n",
       "13           []\n",
       "14          [a]\n",
       "15           []\n",
       "16    [a, a, a]\n",
       "dtype: object"
      ]
     },
     "execution_count": 87,
     "metadata": {},
     "output_type": "execute_result"
    }
   ],
   "source": [
    "fruits_a"
   ]
  },
  {
   "cell_type": "markdown",
   "id": "657681ad",
   "metadata": {},
   "source": [
    "3. Output the number of vowels in each and every string value."
   ]
  },
  {
   "cell_type": "code",
   "execution_count": 97,
   "id": "af1a9ad8",
   "metadata": {},
   "outputs": [
    {
     "data": {
      "text/plain": [
       "['a', 'e', 'i', 'o', 'u']"
      ]
     },
     "execution_count": 97,
     "metadata": {},
     "output_type": "execute_result"
    }
   ],
   "source": [
    "vowels = list('aeiou')\n",
    "vowels"
   ]
  },
  {
   "cell_type": "code",
   "execution_count": 116,
   "id": "f1f9e505",
   "metadata": {},
   "outputs": [
    {
     "name": "stdout",
     "output_type": "stream",
     "text": [
      "['a', 'e', 'i', 'o', 'u']\n"
     ]
    }
   ],
   "source": [
    "fruits_vowels = [fruit for fruit in vowels]\n",
    "print(fruits_vowels)"
   ]
  },
  {
   "cell_type": "code",
   "execution_count": 120,
   "id": "f849b46c",
   "metadata": {},
   "outputs": [
    {
     "data": {
      "text/plain": [
       "2"
      ]
     },
     "execution_count": 120,
     "metadata": {},
     "output_type": "execute_result"
    }
   ],
   "source": [
    "len([i for i in 'kiwi' if i in vowels])"
   ]
  },
  {
   "cell_type": "code",
   "execution_count": 125,
   "id": "2f701158",
   "metadata": {},
   "outputs": [],
   "source": [
    "def count_vowels(string):\n",
    "    vowels = ['a','e','i','o','u']\n",
    "    return len([i for i in string if i in vowels]) # first define a function then call use apply "
   ]
  },
  {
   "cell_type": "code",
   "execution_count": 126,
   "id": "300e7739",
   "metadata": {},
   "outputs": [
    {
     "data": {
      "text/plain": [
       "0     2\n",
       "1     2\n",
       "2     2\n",
       "3     4\n",
       "4     4\n",
       "5     5\n",
       "6     3\n",
       "7     4\n",
       "8     3\n",
       "9     2\n",
       "10    2\n",
       "11    2\n",
       "12    2\n",
       "13    3\n",
       "14    2\n",
       "15    4\n",
       "16    3\n",
       "dtype: int64"
      ]
     },
     "execution_count": 126,
     "metadata": {},
     "output_type": "execute_result"
    }
   ],
   "source": [
    "fruits.apply(count_vowels)"
   ]
  },
  {
   "cell_type": "code",
   "execution_count": 151,
   "id": "4dd02baf",
   "metadata": {},
   "outputs": [
    {
     "name": "stdout",
     "output_type": "stream",
     "text": [
      "0     2\n",
      "1     2\n",
      "2     2\n",
      "3     4\n",
      "4     4\n",
      "5     5\n",
      "6     3\n",
      "7     4\n",
      "8     3\n",
      "9     2\n",
      "10    2\n",
      "11    2\n",
      "12    2\n",
      "13    3\n",
      "14    2\n",
      "15    4\n",
      "16    3\n",
      "dtype: int64\n"
     ]
    }
   ],
   "source": [
    "fruits_vowels = fruits.apply(lambda x: len([i for i in x if i in vowels]))\n",
    "print(fruits_vowels)"
   ]
  },
  {
   "cell_type": "markdown",
   "id": "de3adc99",
   "metadata": {},
   "source": [
    "4. Write the code to get the longest string value from fruits."
   ]
  },
  {
   "cell_type": "code",
   "execution_count": 136,
   "id": "d11dc64c",
   "metadata": {},
   "outputs": [],
   "source": [
    "#longest_string = fruits.str.len().nlargest(n=1, keep='first')\n",
    "\n",
    "#longest_string.nlargest(n=1, keep='first')\n",
    "\n",
    "#print(longest_string)"
   ]
  },
  {
   "cell_type": "code",
   "execution_count": 134,
   "id": "c6065868",
   "metadata": {},
   "outputs": [],
   "source": [
    "longest_string = max(fruits, key = len)"
   ]
  },
  {
   "cell_type": "code",
   "execution_count": 252,
   "id": "2ba39639",
   "metadata": {},
   "outputs": [
    {
     "data": {
      "text/plain": [
       "16"
      ]
     },
     "execution_count": 252,
     "metadata": {},
     "output_type": "execute_result"
    }
   ],
   "source": [
    "max_len = fruits.str.len().max()"
   ]
  },
  {
   "cell_type": "code",
   "execution_count": 137,
   "id": "a027972e",
   "metadata": {},
   "outputs": [
    {
     "name": "stdout",
     "output_type": "stream",
     "text": [
      "honeycrisp apple\n"
     ]
    }
   ],
   "source": [
    "print(longest_string)"
   ]
  },
  {
   "cell_type": "markdown",
   "id": "6ab81e0a",
   "metadata": {},
   "source": [
    "5. Write the code to get the string values with 5 or more letters in the name."
   ]
  },
  {
   "cell_type": "code",
   "execution_count": 183,
   "id": "a7b08002",
   "metadata": {},
   "outputs": [
    {
     "data": {
      "text/plain": [
       "0     False\n",
       "1     False\n",
       "2      True\n",
       "3      True\n",
       "4      True\n",
       "5      True\n",
       "6      True\n",
       "7      True\n",
       "8      True\n",
       "9     False\n",
       "10    False\n",
       "11    False\n",
       "12    False\n",
       "13     True\n",
       "14     True\n",
       "15     True\n",
       "16     True\n",
       "dtype: bool"
      ]
     },
     "execution_count": 183,
     "metadata": {},
     "output_type": "execute_result"
    }
   ],
   "source": [
    "fruits.str.len() >5"
   ]
  },
  {
   "cell_type": "code",
   "execution_count": 253,
   "id": "06954412",
   "metadata": {},
   "outputs": [
    {
     "data": {
      "text/plain": [
       "1                mango\n",
       "2           strawberry\n",
       "3            pineapple\n",
       "4           gala apple\n",
       "5     honeycrisp apple\n",
       "6               tomato\n",
       "7           watermelon\n",
       "8             honeydew\n",
       "12               mango\n",
       "13           blueberry\n",
       "14          blackberry\n",
       "15          gooseberry\n",
       "16              papaya\n",
       "dtype: object"
      ]
     },
     "execution_count": 253,
     "metadata": {},
     "output_type": "execute_result"
    }
   ],
   "source": [
    "fruits[fruits.str.len() >4] #inside[] is a condition, then use [ ] to call, it will only return \n",
    "#the true value **** 5 letters so > 4 or >= 5"
   ]
  },
  {
   "cell_type": "markdown",
   "id": "f14e6e2a",
   "metadata": {},
   "source": [
    "6. Use the .apply method with a lambda function to find the fruit(s) containing the letter \"o\" two or more times."
   ]
  },
  {
   "cell_type": "code",
   "execution_count": 236,
   "id": "a5977314",
   "metadata": {},
   "outputs": [
    {
     "data": {
      "text/plain": [
       "6         tomato\n",
       "15    gooseberry\n",
       "dtype: object"
      ]
     },
     "execution_count": 236,
     "metadata": {},
     "output_type": "execute_result"
    }
   ],
   "source": [
    "fruits[fruits.str.findall('o').apply(lambda x: len(x) >= 2)]\n",
    "#[] this is the condition return true or false"
   ]
  },
  {
   "cell_type": "code",
   "execution_count": 254,
   "id": "8cc0f086",
   "metadata": {},
   "outputs": [
    {
     "data": {
      "text/plain": [
       "6         tomato\n",
       "15    gooseberry\n",
       "dtype: object"
      ]
     },
     "execution_count": 254,
     "metadata": {},
     "output_type": "execute_result"
    }
   ],
   "source": [
    "fruits[fruits.str.count('o')>1]"
   ]
  },
  {
   "cell_type": "markdown",
   "id": "7673d97d",
   "metadata": {},
   "source": [
    "7. Write the code to get only the string values containing the substring \"berry\"."
   ]
  },
  {
   "cell_type": "code",
   "execution_count": 14,
   "id": "0f91ca6f",
   "metadata": {
    "scrolled": true
   },
   "outputs": [
    {
     "data": {
      "text/plain": [
       "2     strawberry\n",
       "13     blueberry\n",
       "14    blackberry\n",
       "15    gooseberry\n",
       "dtype: object"
      ]
     },
     "execution_count": 14,
     "metadata": {},
     "output_type": "execute_result"
    }
   ],
   "source": [
    "fruits[fruits.str.findall('berry').apply(lambda x: len(x) >= 1)]"
   ]
  },
  {
   "cell_type": "code",
   "execution_count": 239,
   "id": "bb0e58eb",
   "metadata": {},
   "outputs": [
    {
     "data": {
      "text/plain": [
       "2     strawberry\n",
       "13     blueberry\n",
       "14    blackberry\n",
       "15    gooseberry\n",
       "dtype: object"
      ]
     },
     "execution_count": 239,
     "metadata": {},
     "output_type": "execute_result"
    }
   ],
   "source": [
    "fruits[fruits.str.contains('berry')]  # series_name.str.contains will give\n",
    "#you the condition of true of flase, then we can call them out. "
   ]
  },
  {
   "cell_type": "markdown",
   "id": "13040b06",
   "metadata": {},
   "source": [
    "8. Write the code to get only the string values containing the substring \"apple\"."
   ]
  },
  {
   "cell_type": "code",
   "execution_count": 22,
   "id": "58232dfc",
   "metadata": {},
   "outputs": [
    {
     "data": {
      "text/plain": [
       "3           pineapple\n",
       "4          gala apple\n",
       "5    honeycrisp apple\n",
       "dtype: object"
      ]
     },
     "execution_count": 22,
     "metadata": {},
     "output_type": "execute_result"
    }
   ],
   "source": [
    "fruits[fruits.str.findall('apple').apply(lambda x: len(x) >= 1)]"
   ]
  },
  {
   "cell_type": "code",
   "execution_count": 240,
   "id": "90615a31",
   "metadata": {},
   "outputs": [
    {
     "data": {
      "text/plain": [
       "3           pineapple\n",
       "4          gala apple\n",
       "5    honeycrisp apple\n",
       "dtype: object"
      ]
     },
     "execution_count": 240,
     "metadata": {},
     "output_type": "execute_result"
    }
   ],
   "source": [
    "fruits[fruits.str.contains('apple')]"
   ]
  },
  {
   "cell_type": "markdown",
   "id": "25d3a5bb",
   "metadata": {},
   "source": [
    "9. Which string value contains the most vowels?"
   ]
  },
  {
   "cell_type": "code",
   "execution_count": 37,
   "id": "99598b86",
   "metadata": {},
   "outputs": [],
   "source": [
    "vowels = ['a','e','i','o','u']"
   ]
  },
  {
   "cell_type": "code",
   "execution_count": 262,
   "id": "f7abb765",
   "metadata": {},
   "outputs": [],
   "source": [
    "vowels_count = fruits.str.count('[aerou]')"
   ]
  },
  {
   "cell_type": "code",
   "execution_count": 28,
   "id": "235e18d3",
   "metadata": {},
   "outputs": [
    {
     "name": "stdout",
     "output_type": "stream",
     "text": [
      "0     2\n",
      "1     2\n",
      "2     2\n",
      "3     4\n",
      "4     4\n",
      "5     5\n",
      "6     3\n",
      "7     4\n",
      "8     3\n",
      "9     2\n",
      "10    2\n",
      "11    2\n",
      "12    2\n",
      "13    3\n",
      "14    2\n",
      "15    4\n",
      "16    3\n",
      "dtype: int64\n"
     ]
    }
   ],
   "source": [
    "most_fruits_vowels = fruits.apply(lambda x: len([i for i in x if i in vowels]))\n",
    "\n",
    "print(most_fruits_vowels)"
   ]
  },
  {
   "cell_type": "code",
   "execution_count": 43,
   "id": "427005e3",
   "metadata": {},
   "outputs": [
    {
     "data": {
      "text/plain": [
       "5    5\n",
       "dtype: int64"
      ]
     },
     "execution_count": 43,
     "metadata": {},
     "output_type": "execute_result"
    }
   ],
   "source": [
    "most_fruits_vowels.nlargest(n=1)"
   ]
  },
  {
   "cell_type": "code",
   "execution_count": 45,
   "id": "fb5f7c5b",
   "metadata": {},
   "outputs": [
    {
     "data": {
      "text/plain": [
       "'honeycrisp apple'"
      ]
     },
     "execution_count": 45,
     "metadata": {},
     "output_type": "execute_result"
    }
   ],
   "source": [
    "fruits[5]"
   ]
  },
  {
   "cell_type": "markdown",
   "id": "965bf860",
   "metadata": {},
   "source": [
    "## Exercises Part III - A"
   ]
  },
  {
   "cell_type": "code",
   "execution_count": 266,
   "id": "706f3191",
   "metadata": {},
   "outputs": [],
   "source": [
    "random1 = list('hnvidduckkqxwymbimkccexbkmqygkxoyndmcxnwqarhyffsjpsrabtjzsypmzadfavyrnndndvswreauxovncxtwzpwejilzjrmmbbgbyxvjtewqthafnbkqplarokkyydtubbmnexoypulzwfhqvckdpqtpoppzqrmcvhhpwgjwupgzhiofohawytlsiyecuproguy')"
   ]
  },
  {
   "cell_type": "code",
   "execution_count": 267,
   "id": "8410bf45",
   "metadata": {},
   "outputs": [
    {
     "data": {
      "text/plain": [
       "['h',\n",
       " 'n',\n",
       " 'v',\n",
       " 'i',\n",
       " 'd',\n",
       " 'd',\n",
       " 'u',\n",
       " 'c',\n",
       " 'k',\n",
       " 'k',\n",
       " 'q',\n",
       " 'x',\n",
       " 'w',\n",
       " 'y',\n",
       " 'm',\n",
       " 'b',\n",
       " 'i',\n",
       " 'm',\n",
       " 'k',\n",
       " 'c',\n",
       " 'c',\n",
       " 'e',\n",
       " 'x',\n",
       " 'b',\n",
       " 'k',\n",
       " 'm',\n",
       " 'q',\n",
       " 'y',\n",
       " 'g',\n",
       " 'k',\n",
       " 'x',\n",
       " 'o',\n",
       " 'y',\n",
       " 'n',\n",
       " 'd',\n",
       " 'm',\n",
       " 'c',\n",
       " 'x',\n",
       " 'n',\n",
       " 'w',\n",
       " 'q',\n",
       " 'a',\n",
       " 'r',\n",
       " 'h',\n",
       " 'y',\n",
       " 'f',\n",
       " 'f',\n",
       " 's',\n",
       " 'j',\n",
       " 'p',\n",
       " 's',\n",
       " 'r',\n",
       " 'a',\n",
       " 'b',\n",
       " 't',\n",
       " 'j',\n",
       " 'z',\n",
       " 's',\n",
       " 'y',\n",
       " 'p',\n",
       " 'm',\n",
       " 'z',\n",
       " 'a',\n",
       " 'd',\n",
       " 'f',\n",
       " 'a',\n",
       " 'v',\n",
       " 'y',\n",
       " 'r',\n",
       " 'n',\n",
       " 'n',\n",
       " 'd',\n",
       " 'n',\n",
       " 'd',\n",
       " 'v',\n",
       " 's',\n",
       " 'w',\n",
       " 'r',\n",
       " 'e',\n",
       " 'a',\n",
       " 'u',\n",
       " 'x',\n",
       " 'o',\n",
       " 'v',\n",
       " 'n',\n",
       " 'c',\n",
       " 'x',\n",
       " 't',\n",
       " 'w',\n",
       " 'z',\n",
       " 'p',\n",
       " 'w',\n",
       " 'e',\n",
       " 'j',\n",
       " 'i',\n",
       " 'l',\n",
       " 'z',\n",
       " 'j',\n",
       " 'r',\n",
       " 'm',\n",
       " 'm',\n",
       " 'b',\n",
       " 'b',\n",
       " 'g',\n",
       " 'b',\n",
       " 'y',\n",
       " 'x',\n",
       " 'v',\n",
       " 'j',\n",
       " 't',\n",
       " 'e',\n",
       " 'w',\n",
       " 'q',\n",
       " 't',\n",
       " 'h',\n",
       " 'a',\n",
       " 'f',\n",
       " 'n',\n",
       " 'b',\n",
       " 'k',\n",
       " 'q',\n",
       " 'p',\n",
       " 'l',\n",
       " 'a',\n",
       " 'r',\n",
       " 'o',\n",
       " 'k',\n",
       " 'k',\n",
       " 'y',\n",
       " 'y',\n",
       " 'd',\n",
       " 't',\n",
       " 'u',\n",
       " 'b',\n",
       " 'b',\n",
       " 'm',\n",
       " 'n',\n",
       " 'e',\n",
       " 'x',\n",
       " 'o',\n",
       " 'y',\n",
       " 'p',\n",
       " 'u',\n",
       " 'l',\n",
       " 'z',\n",
       " 'w',\n",
       " 'f',\n",
       " 'h',\n",
       " 'q',\n",
       " 'v',\n",
       " 'c',\n",
       " 'k',\n",
       " 'd',\n",
       " 'p',\n",
       " 'q',\n",
       " 't',\n",
       " 'p',\n",
       " 'o',\n",
       " 'p',\n",
       " 'p',\n",
       " 'z',\n",
       " 'q',\n",
       " 'r',\n",
       " 'm',\n",
       " 'c',\n",
       " 'v',\n",
       " 'h',\n",
       " 'h',\n",
       " 'p',\n",
       " 'w',\n",
       " 'g',\n",
       " 'j',\n",
       " 'w',\n",
       " 'u',\n",
       " 'p',\n",
       " 'g',\n",
       " 'z',\n",
       " 'h',\n",
       " 'i',\n",
       " 'o',\n",
       " 'f',\n",
       " 'o',\n",
       " 'h',\n",
       " 'a',\n",
       " 'w',\n",
       " 'y',\n",
       " 't',\n",
       " 'l',\n",
       " 's',\n",
       " 'i',\n",
       " 'y',\n",
       " 'e',\n",
       " 'c',\n",
       " 'u',\n",
       " 'p',\n",
       " 'r',\n",
       " 'o',\n",
       " 'g',\n",
       " 'u',\n",
       " 'y']"
      ]
     },
     "execution_count": 267,
     "metadata": {},
     "output_type": "execute_result"
    }
   ],
   "source": [
    "random1"
   ]
  },
  {
   "cell_type": "code",
   "execution_count": 233,
   "id": "22c7fad1",
   "metadata": {},
   "outputs": [
    {
     "data": {
      "text/plain": [
       "dtype('O')"
      ]
     },
     "execution_count": 233,
     "metadata": {},
     "output_type": "execute_result"
    }
   ],
   "source": [
    "random1.dtype "
   ]
  },
  {
   "cell_type": "markdown",
   "id": "6dfd7f42",
   "metadata": {},
   "source": [
    "1. Which letter occurs the most frequently in the letters Series?"
   ]
  },
  {
   "cell_type": "code",
   "execution_count": 51,
   "id": "39afeb6d",
   "metadata": {},
   "outputs": [],
   "source": [
    "random1 = pd.Series(random1)  "
   ]
  },
  {
   "cell_type": "code",
   "execution_count": 57,
   "id": "8eac89f3",
   "metadata": {},
   "outputs": [
    {
     "data": {
      "text/plain": [
       "y    13\n",
       "dtype: int64"
      ]
     },
     "execution_count": 57,
     "metadata": {},
     "output_type": "execute_result"
    }
   ],
   "source": [
    "random1_count = random1.value_counts()  \n",
    "#series_name.value_counts() will return the frencqucy of the series. then use nlargest\n",
    "random1_count.nlargest(n=1)"
   ]
  },
  {
   "cell_type": "markdown",
   "id": "f70fecb2",
   "metadata": {},
   "source": [
    "2. Which letter occurs the Least frequently?"
   ]
  },
  {
   "cell_type": "code",
   "execution_count": 84,
   "id": "8e6fcbc4",
   "metadata": {},
   "outputs": [
    {
     "name": "stdout",
     "output_type": "stream",
     "text": [
      "l    4\n",
      "g    5\n",
      "i    5\n",
      "s    5\n",
      "e    6\n",
      "f    6\n",
      "j    6\n",
      "dtype: int64\n"
     ]
    }
   ],
   "source": [
    "random1_count = random1.value_counts()\n",
    "#filter out the first six by using n = 6, rename assign a avarible. \n",
    "six_common = random1_count.nsmallest(n=6, keep = 'all')\n",
    "print(six_common)"
   ]
  },
  {
   "cell_type": "markdown",
   "id": "cfd25386",
   "metadata": {},
   "source": [
    "3. How many vowels are in the Series?"
   ]
  },
  {
   "cell_type": "code",
   "execution_count": 61,
   "id": "d839ba63",
   "metadata": {},
   "outputs": [],
   "source": [
    "vowels = ['a','e','i','o','u']"
   ]
  },
  {
   "cell_type": "code",
   "execution_count": 75,
   "id": "20dd8927",
   "metadata": {},
   "outputs": [],
   "source": [
    "random1_count_vowels = random1[random1.isin(vowels)]"
   ]
  },
  {
   "cell_type": "code",
   "execution_count": 76,
   "id": "6bf7dbfa",
   "metadata": {
    "scrolled": true
   },
   "outputs": [
    {
     "data": {
      "text/plain": [
       "34"
      ]
     },
     "execution_count": 76,
     "metadata": {},
     "output_type": "execute_result"
    }
   ],
   "source": [
    "len(random1_count_vowels)"
   ]
  },
  {
   "cell_type": "code",
   "execution_count": 260,
   "id": "0ab13592",
   "metadata": {},
   "outputs": [
    {
     "data": {
      "text/plain": [
       "0     0\n",
       "1     0\n",
       "2     0\n",
       "3     0\n",
       "4     0\n",
       "5     0\n",
       "6     0\n",
       "7     0\n",
       "8     0\n",
       "9     0\n",
       "10    0\n",
       "11    0\n",
       "12    0\n",
       "13    0\n",
       "14    0\n",
       "15    0\n",
       "16    0\n",
       "17    0\n",
       "18    0\n",
       "19    0\n",
       "dtype: int64"
      ]
     },
     "execution_count": 260,
     "metadata": {},
     "output_type": "execute_result"
    }
   ],
   "source": [
    "random1.str.lower().str.count('[aerou]')"
   ]
  },
  {
   "cell_type": "code",
   "execution_count": 261,
   "id": "2391f2a7",
   "metadata": {},
   "outputs": [
    {
     "data": {
      "text/plain": [
       "0"
      ]
     },
     "execution_count": 261,
     "metadata": {},
     "output_type": "execute_result"
    }
   ],
   "source": [
    "random1.str.count('[aerou]').sum()"
   ]
  },
  {
   "cell_type": "code",
   "execution_count": null,
   "id": "9eda0315",
   "metadata": {},
   "outputs": [],
   "source": []
  },
  {
   "cell_type": "markdown",
   "id": "8252e144",
   "metadata": {},
   "source": [
    "4. How many consonants are in the Series?"
   ]
  },
  {
   "cell_type": "code",
   "execution_count": 81,
   "id": "4a4f19d2",
   "metadata": {},
   "outputs": [
    {
     "data": {
      "text/plain": [
       "166"
      ]
     },
     "execution_count": 81,
     "metadata": {},
     "output_type": "execute_result"
    }
   ],
   "source": [
    "#~something.isin(somewhere)\n",
    "random1_count_consonants = random1[~random1.isin(vowels)]\n",
    "len(random1_count_consonants)"
   ]
  },
  {
   "cell_type": "markdown",
   "id": "7970a2d7",
   "metadata": {},
   "source": [
    "5. Create a Series that has all of the same letters but uppercased."
   ]
  },
  {
   "cell_type": "code",
   "execution_count": 83,
   "id": "e3db7be5",
   "metadata": {},
   "outputs": [
    {
     "name": "stdout",
     "output_type": "stream",
     "text": [
      "0      H\n",
      "1      N\n",
      "2      V\n",
      "3      I\n",
      "4      D\n",
      "      ..\n",
      "195    R\n",
      "196    O\n",
      "197    G\n",
      "198    U\n",
      "199    Y\n",
      "Length: 200, dtype: object\n"
     ]
    }
   ],
   "source": [
    "random1_upper =random1.str.upper()\n",
    "print(random1_upper)"
   ]
  },
  {
   "cell_type": "markdown",
   "id": "667e3d97",
   "metadata": {},
   "source": [
    "6. Create a bar plot of the frequencies of the 6 most commonly occuring letters."
   ]
  },
  {
   "cell_type": "code",
   "execution_count": 268,
   "id": "a5506a8e",
   "metadata": {},
   "outputs": [
    {
     "ename": "AttributeError",
     "evalue": "'list' object has no attribute 'value_counts'",
     "output_type": "error",
     "traceback": [
      "\u001b[0;31m---------------------------------------------------------------------------\u001b[0m",
      "\u001b[0;31mAttributeError\u001b[0m                            Traceback (most recent call last)",
      "\u001b[0;32m/var/folders/qc/j1gjctrd2wn6_hlqm7vyzbgm0000gn/T/ipykernel_939/2667973257.py\u001b[0m in \u001b[0;36m<module>\u001b[0;34m\u001b[0m\n\u001b[0;32m----> 1\u001b[0;31m random1.value_counts().head(6).plot.bar(title='6 Most Commonly Occuring Letters', \n\u001b[0m\u001b[1;32m      2\u001b[0m                                                                             \u001b[0mrot\u001b[0m\u001b[0;34m=\u001b[0m\u001b[0;36m0\u001b[0m\u001b[0;34m,\u001b[0m\u001b[0;34m\u001b[0m\u001b[0;34m\u001b[0m\u001b[0m\n\u001b[1;32m      3\u001b[0m                                                                             \u001b[0mcolor\u001b[0m\u001b[0;34m=\u001b[0m\u001b[0;34m'firebrick'\u001b[0m\u001b[0;34m,\u001b[0m\u001b[0;34m\u001b[0m\u001b[0;34m\u001b[0m\u001b[0m\n\u001b[1;32m      4\u001b[0m                                                                             \u001b[0mec\u001b[0m\u001b[0;34m=\u001b[0m\u001b[0;34m'black'\u001b[0m\u001b[0;34m,\u001b[0m\u001b[0;34m\u001b[0m\u001b[0;34m\u001b[0m\u001b[0m\n\u001b[1;32m      5\u001b[0m                                                                             \u001b[0mwidth\u001b[0m\u001b[0;34m=\u001b[0m\u001b[0;36m.9\u001b[0m\u001b[0;34m)\u001b[0m\u001b[0;34m.\u001b[0m\u001b[0mset\u001b[0m\u001b[0;34m(\u001b[0m\u001b[0mxlabel\u001b[0m\u001b[0;34m=\u001b[0m\u001b[0;34m'Letter'\u001b[0m\u001b[0;34m,\u001b[0m\u001b[0;34m\u001b[0m\u001b[0;34m\u001b[0m\u001b[0m\n",
      "\u001b[0;31mAttributeError\u001b[0m: 'list' object has no attribute 'value_counts'"
     ]
    }
   ],
   "source": [
    "random1.value_counts().head(6).plot.bar(title='6 Most Commonly Occuring Letters', \n",
    "                                                                            rot=0, \n",
    "                                                                            color='firebrick', \n",
    "                                                                            ec='black',\n",
    "                                                                            width=.9).set(xlabel='Letter',\n",
    "                                                                                         ylabel='Frequency'\n",
    ")\n",
    "\n",
    "plt.show()"
   ]
  },
  {
   "cell_type": "markdown",
   "id": "9111a06d",
   "metadata": {},
   "source": [
    "## Exercises Part III -B"
   ]
  },
  {
   "cell_type": "code",
   "execution_count": 19,
   "id": "19ac7973",
   "metadata": {},
   "outputs": [],
   "source": [
    "random2 = pd.Series(['$796,459.41', '$278.60', '$482,571.67', '$4,503,915.98', '$2,121,418.3', '$1,260,813.3', '$87,231.01', '$1,509,175.45', '$4,138,548.00', '$2,848,913.80', '$594,715.39', '$4,789,988.17', '$4,513,644.5', '$3,191,059.97', '$1,758,712.24', '$4,338,283.54', '$4,738,303.38', '$2,791,759.67', '$769,681.94', '$452,650.23']\n",
    ") "
   ]
  },
  {
   "cell_type": "markdown",
   "id": "3f2879c6",
   "metadata": {},
   "source": [
    "1. What is the data type of the numbers Series?"
   ]
  },
  {
   "cell_type": "code",
   "execution_count": 20,
   "id": "791e87e5",
   "metadata": {},
   "outputs": [
    {
     "data": {
      "text/plain": [
       "pandas.core.series.Series"
      ]
     },
     "execution_count": 20,
     "metadata": {},
     "output_type": "execute_result"
    }
   ],
   "source": [
    "type(random2)"
   ]
  },
  {
   "cell_type": "code",
   "execution_count": 21,
   "id": "52600d73",
   "metadata": {},
   "outputs": [
    {
     "data": {
      "text/plain": [
       "0       $796,459.41\n",
       "1           $278.60\n",
       "2       $482,571.67\n",
       "3     $4,503,915.98\n",
       "4      $2,121,418.3\n",
       "5      $1,260,813.3\n",
       "6        $87,231.01\n",
       "7     $1,509,175.45\n",
       "8     $4,138,548.00\n",
       "9     $2,848,913.80\n",
       "10      $594,715.39\n",
       "11    $4,789,988.17\n",
       "12     $4,513,644.5\n",
       "13    $3,191,059.97\n",
       "14    $1,758,712.24\n",
       "15    $4,338,283.54\n",
       "16    $4,738,303.38\n",
       "17    $2,791,759.67\n",
       "18      $769,681.94\n",
       "19      $452,650.23\n",
       "dtype: object"
      ]
     },
     "execution_count": 21,
     "metadata": {},
     "output_type": "execute_result"
    }
   ],
   "source": [
    "random2"
   ]
  },
  {
   "cell_type": "markdown",
   "id": "6a368534",
   "metadata": {},
   "source": [
    "2. How many elements are in the number Series?"
   ]
  },
  {
   "cell_type": "code",
   "execution_count": 22,
   "id": "6684c609",
   "metadata": {},
   "outputs": [
    {
     "data": {
      "text/plain": [
       "20"
      ]
     },
     "execution_count": 22,
     "metadata": {},
     "output_type": "execute_result"
    }
   ],
   "source": [
    "len(random2)"
   ]
  },
  {
   "cell_type": "markdown",
   "id": "7bd15f99",
   "metadata": {},
   "source": [
    "3. Perform the necessary manipulations by accessing Series attributes and methods to convert the numbers Series to a numeric data type."
   ]
  },
  {
   "cell_type": "code",
   "execution_count": 23,
   "id": "5214fa78",
   "metadata": {},
   "outputs": [
    {
     "name": "stderr",
     "output_type": "stream",
     "text": [
      "/var/folders/qc/j1gjctrd2wn6_hlqm7vyzbgm0000gn/T/ipykernel_2152/2953786280.py:1: FutureWarning: The default value of regex will change from True to False in a future version. In addition, single character regular expressions will *not* be treated as literal strings when regex=True.\n",
      "  int_type = random2.astype(str).str.replace('$', '').str.replace(',', '').astype(float)\n"
     ]
    }
   ],
   "source": [
    "int_type = random2.astype(str).str.replace('$', '').str.replace(',', '').astype(float)"
   ]
  },
  {
   "cell_type": "code",
   "execution_count": 24,
   "id": "62e5ff03",
   "metadata": {},
   "outputs": [
    {
     "name": "stdout",
     "output_type": "stream",
     "text": [
      "0      796459.41\n",
      "1         278.60\n",
      "2      482571.67\n",
      "3     4503915.98\n",
      "4     2121418.30\n",
      "5     1260813.30\n",
      "6       87231.01\n",
      "7     1509175.45\n",
      "8     4138548.00\n",
      "9     2848913.80\n",
      "10     594715.39\n",
      "11    4789988.17\n",
      "12    4513644.50\n",
      "13    3191059.97\n",
      "14    1758712.24\n",
      "15    4338283.54\n",
      "16    4738303.38\n",
      "17    2791759.67\n",
      "18     769681.94\n",
      "19     452650.23\n",
      "dtype: float64\n"
     ]
    }
   ],
   "source": [
    "print(int_type)"
   ]
  },
  {
   "cell_type": "markdown",
   "id": "a296b2cb",
   "metadata": {},
   "source": [
    "4. Run the code to discover the maximum value from the Series."
   ]
  },
  {
   "cell_type": "code",
   "execution_count": 25,
   "id": "28f42027",
   "metadata": {},
   "outputs": [
    {
     "name": "stdout",
     "output_type": "stream",
     "text": [
      "11    4789988.17\n",
      "dtype: float64\n"
     ]
    }
   ],
   "source": [
    "largest = int_type.nlargest(n=1)\n",
    "print(largest)"
   ]
  },
  {
   "cell_type": "markdown",
   "id": "95b06e87",
   "metadata": {},
   "source": [
    "5. Run the code to discover the minimum value from the Series."
   ]
  },
  {
   "cell_type": "code",
   "execution_count": 26,
   "id": "5feb0e94",
   "metadata": {},
   "outputs": [
    {
     "name": "stdout",
     "output_type": "stream",
     "text": [
      "1    278.6\n",
      "dtype: float64\n"
     ]
    }
   ],
   "source": [
    "smallest = int_type.nsmallest(n=1)\n",
    "print(smallest)"
   ]
  },
  {
   "cell_type": "markdown",
   "id": "6d92ddd4",
   "metadata": {},
   "source": [
    "6. What is the range of the values in the Series?"
   ]
  },
  {
   "cell_type": "code",
   "execution_count": 27,
   "id": "a542ed2c",
   "metadata": {},
   "outputs": [],
   "source": [
    "random2_range = (largest - smallest)"
   ]
  },
  {
   "cell_type": "code",
   "execution_count": 28,
   "id": "07aaca62",
   "metadata": {},
   "outputs": [
    {
     "name": "stdout",
     "output_type": "stream",
     "text": [
      "1    NaN\n",
      "11   NaN\n",
      "dtype: float64\n"
     ]
    }
   ],
   "source": [
    "print(random2_range)"
   ]
  },
  {
   "cell_type": "markdown",
   "id": "774bb054",
   "metadata": {},
   "source": [
    "7. Bin the data into 4 equally sized intervals or bins and output how many values fall into each bin"
   ]
  },
  {
   "cell_type": "code",
   "execution_count": 29,
   "id": "7c4789d2",
   "metadata": {},
   "outputs": [
    {
     "data": {
      "text/plain": [
       "278.6"
      ]
     },
     "execution_count": 29,
     "metadata": {},
     "output_type": "execute_result"
    }
   ],
   "source": [
    "int_type.min()"
   ]
  },
  {
   "cell_type": "code",
   "execution_count": 30,
   "id": "39384f37",
   "metadata": {},
   "outputs": [
    {
     "data": {
      "text/plain": [
       "0      796459.41\n",
       "1         278.60\n",
       "2      482571.67\n",
       "3     4503915.98\n",
       "4     2121418.30\n",
       "5     1260813.30\n",
       "6       87231.01\n",
       "7     1509175.45\n",
       "8     4138548.00\n",
       "9     2848913.80\n",
       "10     594715.39\n",
       "11    4789988.17\n",
       "12    4513644.50\n",
       "13    3191059.97\n",
       "14    1758712.24\n",
       "15    4338283.54\n",
       "16    4738303.38\n",
       "17    2791759.67\n",
       "18     769681.94\n",
       "19     452650.23\n",
       "dtype: float64"
      ]
     },
     "execution_count": 30,
     "metadata": {},
     "output_type": "execute_result"
    }
   ],
   "source": [
    "int_type"
   ]
  },
  {
   "cell_type": "code",
   "execution_count": 32,
   "id": "e87c559e",
   "metadata": {},
   "outputs": [
    {
     "data": {
      "text/plain": [
       "(-4511.11, 1197705.993]       7\n",
       "(1197705.993, 2395133.385]    4\n",
       "(2395133.385, 3592560.778]    3\n",
       "(3592560.778, 4789988.17]     6\n",
       "dtype: int64"
      ]
     },
     "execution_count": 32,
     "metadata": {},
     "output_type": "execute_result"
    }
   ],
   "source": [
    "pd.cut(int_type, 4).value_counts().sort_index()"
   ]
  },
  {
   "cell_type": "code",
   "execution_count": null,
   "id": "b1802331",
   "metadata": {},
   "outputs": [],
   "source": []
  },
  {
   "cell_type": "markdown",
   "id": "6b9fda26",
   "metadata": {},
   "source": [
    "8. Plot the binned data in a meaningful way. Be sure to include a title and axis labels."
   ]
  },
  {
   "cell_type": "code",
   "execution_count": 42,
   "id": "89353e5a",
   "metadata": {},
   "outputs": [
    {
     "data": {
      "image/png": "[encoded data removed]",
      "text/plain": [
       "<Figure size 432x288 with 1 Axes>"
      ]
     },
     "metadata": {
      "needs_background": "light"
     },
     "output_type": "display_data"
    }
   ],
   "source": [
    "plot_value = int_type.value_counts(bins=4).sort_index(ascending = False).plot(title ='4 Bins to Rule Them All',\n",
    "               rot = 0,\n",
    "               color = 'thistle',\n",
    "                xlabel='Count',\n",
    "                ylabel='US $',\n",
    "                kind='barh'\n",
    "               )\n",
    "plt.show()"
   ]
  },
  {
   "cell_type": "markdown",
   "id": "4399b1cf",
   "metadata": {},
   "source": [
    "## Exercises Part III -C"
   ]
  },
  {
   "cell_type": "code",
   "execution_count": 62,
   "id": "acc9c67f",
   "metadata": {},
   "outputs": [],
   "source": [
    "exam_score =pd.Series([60, 86, 75, 62, 93, 71, 60, 83, 95, 78, 65, 72, 69, 81, 96, 80, 85, 92, 82, 78])\n"
   ]
  },
  {
   "cell_type": "markdown",
   "id": "618956a5",
   "metadata": {},
   "source": [
    "1. How many elements are in the exam_scores Series?\n"
   ]
  },
  {
   "cell_type": "code",
   "execution_count": 45,
   "id": "cc6ead0c",
   "metadata": {},
   "outputs": [
    {
     "data": {
      "text/plain": [
       "20"
      ]
     },
     "execution_count": 45,
     "metadata": {},
     "output_type": "execute_result"
    }
   ],
   "source": [
    "len(exam_score)"
   ]
  },
  {
   "cell_type": "markdown",
   "id": "6b865245",
   "metadata": {},
   "source": [
    "2. Run the code to discover the minimum, the maximum, the mean, and the median scores for the exam_scores Series."
   ]
  },
  {
   "cell_type": "code",
   "execution_count": 46,
   "id": "e134ec73",
   "metadata": {
    "scrolled": true
   },
   "outputs": [
    {
     "name": "stdout",
     "output_type": "stream",
     "text": [
      "count    20.000000\n",
      "mean     78.150000\n",
      "std      11.352139\n",
      "min      60.000000\n",
      "25%      70.500000\n",
      "50%      79.000000\n",
      "75%      85.250000\n",
      "max      96.000000\n",
      "dtype: float64\n"
     ]
    }
   ],
   "source": [
    "exam_score_discribe = exam_score.describe()\n",
    "print(exam_score_discribe)"
   ]
  },
  {
   "cell_type": "markdown",
   "id": "20e3279c",
   "metadata": {},
   "source": [
    "3. Plot the Series in a meaningful way and make sure your chart has a title and axis labels."
   ]
  },
  {
   "cell_type": "code",
   "execution_count": 47,
   "id": "65fbceda",
   "metadata": {},
   "outputs": [
    {
     "data": {
      "text/plain": [
       "0     60\n",
       "6     60\n",
       "3     62\n",
       "10    65\n",
       "12    69\n",
       "5     71\n",
       "11    72\n",
       "2     75\n",
       "9     78\n",
       "19    78\n",
       "15    80\n",
       "13    81\n",
       "18    82\n",
       "7     83\n",
       "16    85\n",
       "1     86\n",
       "17    92\n",
       "4     93\n",
       "8     95\n",
       "14    96\n",
       "dtype: int64"
      ]
     },
     "execution_count": 47,
     "metadata": {},
     "output_type": "execute_result"
    }
   ],
   "source": [
    "exam_score.sort_values()"
   ]
  },
  {
   "cell_type": "code",
   "execution_count": 48,
   "id": "26c8c673",
   "metadata": {},
   "outputs": [
    {
     "data": {
      "text/plain": [
       "0     60\n",
       "1     86\n",
       "2     75\n",
       "3     62\n",
       "4     93\n",
       "5     71\n",
       "6     60\n",
       "7     83\n",
       "8     95\n",
       "9     78\n",
       "10    65\n",
       "11    72\n",
       "12    69\n",
       "13    81\n",
       "14    96\n",
       "15    80\n",
       "16    85\n",
       "17    92\n",
       "18    82\n",
       "19    78\n",
       "dtype: int64"
      ]
     },
     "execution_count": 48,
     "metadata": {},
     "output_type": "execute_result"
    }
   ],
   "source": [
    "exam_score"
   ]
  },
  {
   "cell_type": "code",
   "execution_count": 49,
   "id": "efcf5a7a",
   "metadata": {},
   "outputs": [
    {
     "data": {
      "image/png": "[encoded data removed]",
      "text/plain": [
       "<Figure size 432x288 with 1 Axes>"
      ]
     },
     "metadata": {
      "needs_background": "light"
     },
     "output_type": "display_data"
    }
   ],
   "source": [
    "exam_score.plot.hist(color='thistle')\n",
    "\n",
    "plt.title('Distribution of Scores')\n",
    "plt.xlabel('Scores')\n",
    "plt.show()"
   ]
  },
  {
   "cell_type": "code",
   "execution_count": 50,
   "id": "fbdea5e1",
   "metadata": {},
   "outputs": [
    {
     "data": {
      "text/plain": [
       "[Text(0.5, 0, 'Score'), Text(0, 0.5, 'Frequency')]"
      ]
     },
     "execution_count": 50,
     "metadata": {},
     "output_type": "execute_result"
    },
    {
     "data": {
      "image/png": "[encoded data removed]",
      "text/plain": [
       "<Figure size 432x288 with 1 Axes>"
      ]
     },
     "metadata": {
      "needs_background": "light"
     },
     "output_type": "display_data"
    }
   ],
   "source": [
    "exam_score.plot.hist(title='Exam Score', \n",
    "                                                        rot=0, \n",
    "                                                        color='green', \n",
    "                                                        ec='black',\n",
    "                                                        width=.9).set(xlabel='Score',\n",
    "                                                        ylabel='Frequency')\n",
    "\n"
   ]
  },
  {
   "cell_type": "markdown",
   "id": "a76d1ac0",
   "metadata": {},
   "source": [
    "4. Write the code necessary to implement a curve for your exam_grades Series and save this as curved_grades. Add the necessary points to the highest grade to make it 100, and add the same number of points to every other score in the Series as well."
   ]
  },
  {
   "cell_type": "code",
   "execution_count": 63,
   "id": "0f402e6f",
   "metadata": {},
   "outputs": [],
   "source": [
    "curved_grades = exam_score + 4"
   ]
  },
  {
   "cell_type": "code",
   "execution_count": 64,
   "id": "2c21ab26",
   "metadata": {},
   "outputs": [
    {
     "name": "stdout",
     "output_type": "stream",
     "text": [
      "0      64\n",
      "1      90\n",
      "2      79\n",
      "3      66\n",
      "4      97\n",
      "5      75\n",
      "6      64\n",
      "7      87\n",
      "8      99\n",
      "9      82\n",
      "10     69\n",
      "11     76\n",
      "12     73\n",
      "13     85\n",
      "14    100\n",
      "15     84\n",
      "16     89\n",
      "17     96\n",
      "18     86\n",
      "19     82\n",
      "dtype: int64\n"
     ]
    }
   ],
   "source": [
    "print(curved_grades)"
   ]
  },
  {
   "cell_type": "markdown",
   "id": "de6e4fd5",
   "metadata": {},
   "source": [
    "5. Use a method to convert each of the numeric values in the curved_grades Series into a categorical value of letter grades. For example, 86 should be a 'B' and 95 should be an 'A'. Save this as a Series named letter_grades.\n"
   ]
  },
  {
   "cell_type": "code",
   "execution_count": 65,
   "id": "86fc6d7e",
   "metadata": {},
   "outputs": [
    {
     "data": {
      "text/plain": [
       "0     F\n",
       "1     B\n",
       "2     C\n",
       "3     F\n",
       "4     A\n",
       "5     D\n",
       "6     F\n",
       "7     B\n",
       "8     A\n",
       "9     B\n",
       "10    F\n",
       "11    C\n",
       "12    D\n",
       "13    B\n",
       "14    A\n",
       "15    B\n",
       "16    B\n",
       "17    A\n",
       "18    B\n",
       "19    B\n",
       "dtype: category\n",
       "Categories (5, object): ['F' < 'D' < 'C' < 'B' < 'A']"
      ]
     },
     "execution_count": 65,
     "metadata": {},
     "output_type": "execute_result"
    }
   ],
   "source": [
    "\n",
    "# Define bin edges.\n",
    "bin_edges = [0, 70, 75, 80, 90, 101]\n",
    "\n",
    "# Create a list of bin labels; you should have one less than bin edges.\n",
    "bin_labels = ['F', 'D', 'C', 'B', 'A']\n",
    "\n",
    "# Use the .cut() function to create 5 bins as defined and label.\n",
    "letter_grades = pd.cut(curved_grades, bins=bin_edges, labels=bin_labels)\n",
    "letter_grades"
   ]
  },
  {
   "cell_type": "code",
   "execution_count": null,
   "id": "9dea9e42",
   "metadata": {},
   "outputs": [],
   "source": []
  },
  {
   "cell_type": "code",
   "execution_count": 242,
   "id": "b8f2e892",
   "metadata": {},
   "outputs": [],
   "source": [
    "def get_letter_grade(num):\n",
    "    if 88<= int(num) <=100: \n",
    "        return 'A'\n",
    "    elif 80<= int(num) <=87:\n",
    "        return'B'\n",
    "    elif 67<= int(num) <=79:\n",
    "        return 'C'\n",
    "    elif 60<= int(num) <=66:\n",
    "        return 'D'\n",
    "    else: \n",
    "        return 'F'"
   ]
  },
  {
   "cell_type": "code",
   "execution_count": 243,
   "id": "015b12e7",
   "metadata": {},
   "outputs": [],
   "source": [
    "curved_grades = exam_score.apply(get_letter_grade)"
   ]
  },
  {
   "cell_type": "markdown",
   "id": "4839ecdc",
   "metadata": {},
   "source": [
    "6. Plot your new categorical letter_grades Series in a meaninful way and include a title and axis labels."
   ]
  },
  {
   "cell_type": "code",
   "execution_count": 70,
   "id": "2fda23e9",
   "metadata": {},
   "outputs": [
    {
     "data": {
      "image/png": "[encoded data removed]",
      "text/plain": [
       "<Figure size 432x288 with 1 Axes>"
      ]
     },
     "metadata": {
      "needs_background": "light"
     },
     "output_type": "display_data"
    }
   ],
   "source": [
    "\n",
    "letter_grades.value_counts().sort_index().plot.barh()\n",
    "plt.title('Letter Grades')\n",
    "plt.xlabel('Number of Students')\n",
    "plt.ylabel('Letter Grade')\n",
    "\n",
    "plt.show()\n"
   ]
  },
  {
   "cell_type": "code",
   "execution_count": 71,
   "id": "aca45a72",
   "metadata": {},
   "outputs": [
    {
     "data": {
      "text/plain": [
       "<AxesSubplot:title={'center':'Letter Grade'}, xlabel='Grade', ylabel='Frequency'>"
      ]
     },
     "execution_count": 71,
     "metadata": {},
     "output_type": "execute_result"
    },
    {
     "data": {
      "image/png": "[encoded data removed]",
      "text/plain": [
       "<Figure size 432x288 with 1 Axes>"
      ]
     },
     "metadata": {
      "needs_background": "light"
     },
     "output_type": "display_data"
    }
   ],
   "source": [
    "letter_grades.value_counts().plot.bar(title='Letter Grade', \n",
    "                                                        rot=0, \n",
    "                                                        color='green', \n",
    "                                                       xlabel='Grade',\n",
    "                                                        ylabel='Frequency')\n"
   ]
  },
  {
   "cell_type": "code",
   "execution_count": null,
   "id": "3c6557b0",
   "metadata": {},
   "outputs": [],
   "source": []
  },
  {
   "cell_type": "code",
   "execution_count": null,
   "id": "4db43868",
   "metadata": {},
   "outputs": [],
   "source": []
  }
 ],
 "metadata": {
  "kernelspec": {
   "display_name": "Python 3 (ipykernel)",
   "language": "python",
   "name": "python3"
  },
  "language_info": {
   "codemirror_mode": {
    "name": "ipython",
    "version": 3
   },
   "file_extension": ".py",
   "mimetype": "text/x-python",
   "name": "python",
   "nbconvert_exporter": "python",
   "pygments_lexer": "ipython3",
   "version": "3.9.7"
  }
 },
 "nbformat": 4,
 "nbformat_minor": 5
}
